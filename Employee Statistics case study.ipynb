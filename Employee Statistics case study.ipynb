{
 "cells": [
  {
   "cell_type": "code",
   "execution_count": 3,
   "id": "223b65f0-a3da-4a33-8af4-7cc5168c24fe",
   "metadata": {},
   "outputs": [],
   "source": [
    "# Load \"numpy\" and \"pandas\" for manipulating numbers and dataframes\n",
    "# Load \"matplotlib.pyplot\" and \"seaborn\" for data visualisation\n",
    "import numpy as np\n",
    "import pandas as pd\n",
    "import matplotlib.pyplot as plt\n",
    "import seaborn as sns"
   ]
  },
  {
   "cell_type": "code",
   "execution_count": 4,
   "id": "5b674a86-8f11-43a9-b707-27f5c187086c",
   "metadata": {},
   "outputs": [],
   "source": [
    "# Read in the \"Employee Dataset\" file as a Pandas DataFrame\n",
    "data=pd.read_csv(\"C:/Users/Rahul reddy/Desktop/Data analysis/Employee Dataset.csv\")"
   ]
  },
  {
   "cell_type": "code",
   "execution_count": 7,
   "id": "a9aa0e36-ca64-47ac-8bff-4806c9ff0b98",
   "metadata": {},
   "outputs": [
    {
     "data": {
      "text/html": [
       "<div>\n",
       "<style scoped>\n",
       "    .dataframe tbody tr th:only-of-type {\n",
       "        vertical-align: middle;\n",
       "    }\n",
       "\n",
       "    .dataframe tbody tr th {\n",
       "        vertical-align: top;\n",
       "    }\n",
       "\n",
       "    .dataframe thead th {\n",
       "        text-align: right;\n",
       "    }\n",
       "</style>\n",
       "<table border=\"1\" class=\"dataframe\">\n",
       "  <thead>\n",
       "    <tr style=\"text-align: right;\">\n",
       "      <th></th>\n",
       "      <th>id</th>\n",
       "      <th>groups</th>\n",
       "      <th>age</th>\n",
       "      <th>healthy_eating</th>\n",
       "      <th>active_lifestyle</th>\n",
       "      <th>salary</th>\n",
       "    </tr>\n",
       "  </thead>\n",
       "  <tbody>\n",
       "    <tr>\n",
       "      <th>0</th>\n",
       "      <td>0</td>\n",
       "      <td>A</td>\n",
       "      <td>36</td>\n",
       "      <td>5</td>\n",
       "      <td>5</td>\n",
       "      <td>2297</td>\n",
       "    </tr>\n",
       "    <tr>\n",
       "      <th>1</th>\n",
       "      <td>1</td>\n",
       "      <td>A</td>\n",
       "      <td>26</td>\n",
       "      <td>3</td>\n",
       "      <td>5</td>\n",
       "      <td>1134</td>\n",
       "    </tr>\n",
       "    <tr>\n",
       "      <th>2</th>\n",
       "      <td>2</td>\n",
       "      <td>A</td>\n",
       "      <td>61</td>\n",
       "      <td>8</td>\n",
       "      <td>1</td>\n",
       "      <td>4969</td>\n",
       "    </tr>\n",
       "    <tr>\n",
       "      <th>3</th>\n",
       "      <td>3</td>\n",
       "      <td>O</td>\n",
       "      <td>24</td>\n",
       "      <td>3</td>\n",
       "      <td>6</td>\n",
       "      <td>902</td>\n",
       "    </tr>\n",
       "    <tr>\n",
       "      <th>4</th>\n",
       "      <td>4</td>\n",
       "      <td>O</td>\n",
       "      <td>39</td>\n",
       "      <td>6</td>\n",
       "      <td>2</td>\n",
       "      <td>3574</td>\n",
       "    </tr>\n",
       "  </tbody>\n",
       "</table>\n",
       "</div>"
      ],
      "text/plain": [
       "   id groups  age  healthy_eating  active_lifestyle  salary\n",
       "0   0      A   36               5                 5    2297\n",
       "1   1      A   26               3                 5    1134\n",
       "2   2      A   61               8                 1    4969\n",
       "3   3      O   24               3                 6     902\n",
       "4   4      O   39               6                 2    3574"
      ]
     },
     "execution_count": 7,
     "metadata": {},
     "output_type": "execute_result"
    }
   ],
   "source": [
    "data.head()"
   ]
  },
  {
   "cell_type": "code",
   "execution_count": 9,
   "id": "3ee2f206-c2d4-4289-9f02-aed133856e2a",
   "metadata": {},
   "outputs": [
    {
     "data": {
      "text/plain": [
       "(50, 6)"
      ]
     },
     "execution_count": 9,
     "metadata": {},
     "output_type": "execute_result"
    }
   ],
   "source": [
    "data.shape"
   ]
  },
  {
   "cell_type": "code",
   "execution_count": 11,
   "id": "a85f5620-bccc-4d08-a37c-6bfa141dc120",
   "metadata": {},
   "outputs": [
    {
     "data": {
      "text/html": [
       "<div>\n",
       "<style scoped>\n",
       "    .dataframe tbody tr th:only-of-type {\n",
       "        vertical-align: middle;\n",
       "    }\n",
       "\n",
       "    .dataframe tbody tr th {\n",
       "        vertical-align: top;\n",
       "    }\n",
       "\n",
       "    .dataframe thead th {\n",
       "        text-align: right;\n",
       "    }\n",
       "</style>\n",
       "<table border=\"1\" class=\"dataframe\">\n",
       "  <thead>\n",
       "    <tr style=\"text-align: right;\">\n",
       "      <th></th>\n",
       "      <th>id</th>\n",
       "      <th>groups</th>\n",
       "      <th>age</th>\n",
       "      <th>healthy_eating</th>\n",
       "      <th>active_lifestyle</th>\n",
       "      <th>salary</th>\n",
       "    </tr>\n",
       "  </thead>\n",
       "  <tbody>\n",
       "    <tr>\n",
       "      <th>45</th>\n",
       "      <td>45</td>\n",
       "      <td>O</td>\n",
       "      <td>25</td>\n",
       "      <td>5</td>\n",
       "      <td>8</td>\n",
       "      <td>1601</td>\n",
       "    </tr>\n",
       "    <tr>\n",
       "      <th>46</th>\n",
       "      <td>46</td>\n",
       "      <td>AB</td>\n",
       "      <td>29</td>\n",
       "      <td>4</td>\n",
       "      <td>3</td>\n",
       "      <td>2179</td>\n",
       "    </tr>\n",
       "    <tr>\n",
       "      <th>47</th>\n",
       "      <td>47</td>\n",
       "      <td>B</td>\n",
       "      <td>30</td>\n",
       "      <td>4</td>\n",
       "      <td>6</td>\n",
       "      <td>1484</td>\n",
       "    </tr>\n",
       "    <tr>\n",
       "      <th>48</th>\n",
       "      <td>48</td>\n",
       "      <td>A</td>\n",
       "      <td>30</td>\n",
       "      <td>5</td>\n",
       "      <td>6</td>\n",
       "      <td>2065</td>\n",
       "    </tr>\n",
       "    <tr>\n",
       "      <th>49</th>\n",
       "      <td>49</td>\n",
       "      <td>A</td>\n",
       "      <td>29</td>\n",
       "      <td>6</td>\n",
       "      <td>9</td>\n",
       "      <td>1950</td>\n",
       "    </tr>\n",
       "  </tbody>\n",
       "</table>\n",
       "</div>"
      ],
      "text/plain": [
       "    id groups  age  healthy_eating  active_lifestyle  salary\n",
       "45  45      O   25               5                 8    1601\n",
       "46  46     AB   29               4                 3    2179\n",
       "47  47      B   30               4                 6    1484\n",
       "48  48      A   30               5                 6    2065\n",
       "49  49      A   29               6                 9    1950"
      ]
     },
     "execution_count": 11,
     "metadata": {},
     "output_type": "execute_result"
    }
   ],
   "source": [
    "data.tail()"
   ]
  },
  {
   "cell_type": "code",
   "execution_count": 13,
   "id": "cddbdbcc-3518-4a50-9640-3fa9250646df",
   "metadata": {},
   "outputs": [
    {
     "data": {
      "text/plain": [
       "RangeIndex(start=0, stop=50, step=1)"
      ]
     },
     "execution_count": 13,
     "metadata": {},
     "output_type": "execute_result"
    }
   ],
   "source": [
    "data.index"
   ]
  },
  {
   "cell_type": "code",
   "execution_count": 15,
   "id": "992fdbd7-2773-43d8-adf0-e7ce088e4acc",
   "metadata": {},
   "outputs": [
    {
     "data": {
      "text/plain": [
       "Index(['id', 'groups', 'age', 'healthy_eating', 'active_lifestyle', 'salary'], dtype='object')"
      ]
     },
     "execution_count": 15,
     "metadata": {},
     "output_type": "execute_result"
    }
   ],
   "source": [
    "data.columns"
   ]
  },
  {
   "cell_type": "code",
   "execution_count": 17,
   "id": "17e348cf-1a31-40ee-95fb-cc3ce736cebd",
   "metadata": {},
   "outputs": [
    {
     "name": "stdout",
     "output_type": "stream",
     "text": [
      "<class 'pandas.core.frame.DataFrame'>\n",
      "RangeIndex: 50 entries, 0 to 49\n",
      "Data columns (total 6 columns):\n",
      " #   Column            Non-Null Count  Dtype \n",
      "---  ------            --------------  ----- \n",
      " 0   id                50 non-null     int64 \n",
      " 1   groups            50 non-null     object\n",
      " 2   age               50 non-null     int64 \n",
      " 3   healthy_eating    50 non-null     int64 \n",
      " 4   active_lifestyle  50 non-null     int64 \n",
      " 5   salary            50 non-null     int64 \n",
      "dtypes: int64(5), object(1)\n",
      "memory usage: 2.5+ KB\n"
     ]
    }
   ],
   "source": [
    "data.info()"
   ]
  },
  {
   "cell_type": "markdown",
   "id": "9339e00e-9b30-4316-980e-831ad9499696",
   "metadata": {},
   "source": [
    "# **Observations from Task 1**\n",
    "\n",
    "There are 50 rows and 6 columns in the data.\n",
    "Each row contains the employee specifics of a certain employee in the company\n",
    "\n",
    "The features in the data set are:\n",
    "\n",
    "1. The id of the employees\n",
    "\n",
    "2. Their respective groups and age\n",
    "\n",
    "3. Their healthy_eating and active_lifestyle\n",
    "\n",
    "4. Their salary"
   ]
  },
  {
   "cell_type": "code",
   "execution_count": 22,
   "id": "ad3b6cfa-2a2e-420b-b259-61ad266be539",
   "metadata": {},
   "outputs": [
    {
     "data": {
      "image/png": "[encoded data removed]",
      "text/plain": [
       "<Figure size 900x400 with 1 Axes>"
      ]
     },
     "metadata": {},
     "output_type": "display_data"
    }
   ],
   "source": [
    "# Create a scatter plot of the \"Age\" and \"Employee Salary\" features\n",
    "plt.figure(figsize=(9,4))\n",
    "\n",
    "sns.scatterplot(data=data,x='age',y='salary',color='orange',edgecolor='linen',alpha=0.7)\n",
    "\n",
    "plt.title('Scatterplot Age vs Employee')\n",
    "plt.xlabel('age')\n",
    "plt.ylabel('employee')\n",
    "plt.show()"
   ]
  },
  {
   "cell_type": "markdown",
   "id": "ed55c581-ba84-4210-8734-46d3b5d7e503",
   "metadata": {},
   "source": [
    "Observations:\n",
    "\n",
    "We observe that in general, there is a relationship between age and Salary of employee\n",
    "\n",
    "As age increases, the Salary also increases , though there are some outliers present as well"
   ]
  },
  {
   "cell_type": "code",
   "execution_count": 26,
   "id": "ed991700-9fe0-4d5a-a308-ecab5b287ab0",
   "metadata": {},
   "outputs": [
    {
     "data": {
      "image/png": "[encoded data removed]",
      "text/plain": [
       "<Figure size 900x400 with 1 Axes>"
      ]
     },
     "metadata": {},
     "output_type": "display_data"
    }
   ],
   "source": [
    "# Create a scatter plot of the \"healthy_eating\" and \"active_lifestyle\" features\n",
    "plt.figure(figsize=(9,4))\n",
    "\n",
    "sns.scatterplot(data=data,x='healthy_eating',y='active_lifestyle',color='blue',edgecolor='linen',alpha=0.7)\n",
    "\n",
    "plt.title('Scatterplot healthy_eating vs active_lifestyle')\n",
    "plt.xlabel('healthy_eating')\n",
    "plt.ylabel('active_lifestyle')\n",
    "plt.show()"
   ]
  },
  {
   "cell_type": "markdown",
   "id": "67128d2e-83e4-4498-a367-2a7caf261bb6",
   "metadata": {},
   "source": [
    "Observations:\n",
    "\n",
    "We observe that in general, there is a relationship between healthy_eating and active_lifestyle of employee\n",
    "\n",
    "As healthy_eating increases, the active_lifestyle also increases"
   ]
  },
  {
   "cell_type": "code",
   "execution_count": 30,
   "id": "e3bbd588-a633-4d4b-89a1-32135e3936da",
   "metadata": {},
   "outputs": [
    {
     "data": {
      "image/png": "[encoded data removed]",
      "text/plain": [
       "<Figure size 900x400 with 1 Axes>"
      ]
     },
     "metadata": {},
     "output_type": "display_data"
    }
   ],
   "source": [
    "# Create a scatter plot of the \"healthy_eating\" and \"salary\" features\n",
    "plt.figure(figsize=(9,4))\n",
    "\n",
    "sns.scatterplot(data=data,x='healthy_eating',y='salary',color='black',edgecolor='linen',alpha=0.7)\n",
    "\n",
    "plt.title('Scatterplot healthy_eating vs salary')\n",
    "plt.xlabel('healthy_eating')\n",
    "plt.ylabel('salary')\n",
    "plt.show()"
   ]
  },
  {
   "cell_type": "markdown",
   "id": "3bb06851-e9d3-4d30-a496-67babc90c5d8",
   "metadata": {},
   "source": [
    "Observations:\n",
    "\n",
    "We observe that in general, there is a relationship between healthy_eating and salary of employee\n",
    "\n",
    "As healthy_eating increases, the salary also increases"
   ]
  },
  {
   "cell_type": "code",
   "execution_count": 33,
   "id": "af5beb02-a6cb-411c-84f6-8f1095fd8485",
   "metadata": {},
   "outputs": [
    {
     "data": {
      "image/png": "[encoded data removed]",
      "text/plain": [
       "<Figure size 900x400 with 1 Axes>"
      ]
     },
     "metadata": {},
     "output_type": "display_data"
    }
   ],
   "source": [
    "# Create a count plot of the \"groups\" feature\n",
    "plt.figure(figsize=(9,4))\n",
    "\n",
    "sns.countplot(data=data,x='groups',edgecolor='linen',alpha=0.7)\n",
    "\n",
    "plt.title('Countplot of groups')\n",
    "plt.xlabel('Groups')\n",
    "plt.ylabel('Count')\n",
    "plt.show()"
   ]
  },
  {
   "cell_type": "markdown",
   "id": "16a3b71d-55f3-4101-afab-f0d7eb0fdd4b",
   "metadata": {},
   "source": [
    "Observation:\n",
    "\n",
    "We see that most employees either belong to Group A or Group O, with group A having maximum frequency"
   ]
  },
  {
   "cell_type": "code",
   "execution_count": 36,
   "id": "628ae795-acd3-40f7-954a-1a6fe196bb27",
   "metadata": {},
   "outputs": [
    {
     "data": {
      "image/png": "[encoded data removed]",
      "text/plain": [
       "<Figure size 900x400 with 1 Axes>"
      ]
     },
     "metadata": {},
     "output_type": "display_data"
    }
   ],
   "source": [
    "# Create a histogram of the \"Salary\" feature\n",
    "plt.figure(figsize=(9,4))\n",
    "\n",
    "sns.histplot(data=data,x='salary',color='orange',edgecolor='linen',alpha=0.7,bins=10)\n",
    "\n",
    "plt.title('Histogram for salary')\n",
    "plt.xlabel('Salary')\n",
    "plt.ylabel('Count')\n",
    "plt.show()"
   ]
  },
  {
   "cell_type": "markdown",
   "id": "1f624c9f-c756-4cd9-8a1c-3cc8453ed4d9",
   "metadata": {},
   "source": [
    "Observations:\n",
    "\n",
    "We see that the salaries are not uniform, which is not necessarily a discrepancy\n",
    "\n",
    "But we do observe that there are employees with salaries on either extremities of the histogram\n",
    "\n",
    "Based on the histogram, we can see that the count of highest earning employee is very less"
   ]
  },
  {
   "cell_type": "markdown",
   "id": "11ae6e68-f334-4775-9bb4-1995ec352724",
   "metadata": {},
   "source": [
    "# **Observations from Task 2**\n",
    "\n",
    "1. Generally, as the employee's age increase, there is an increase in the employee salary\n",
    "\n",
    "2. Generally, as the employee's healthy_eating habit increase, there is an increase in the employee salary as well\n",
    "\n",
    "3. However, the employee salary values are more spread out\n",
    "\n",
    "4. An employee of healthy_eating greater than 8 can be taken as 8 only\n",
    "\n",
    "5. An employee salary less than 1000 can be considered as a lower salary"
   ]
  },
  {
   "cell_type": "code",
   "execution_count": 42,
   "id": "95578a26-e815-4ac4-b3a5-20c6d376aaf6",
   "metadata": {},
   "outputs": [
    {
     "data": {
      "text/html": [
       "<div>\n",
       "<style scoped>\n",
       "    .dataframe tbody tr th:only-of-type {\n",
       "        vertical-align: middle;\n",
       "    }\n",
       "\n",
       "    .dataframe tbody tr th {\n",
       "        vertical-align: top;\n",
       "    }\n",
       "\n",
       "    .dataframe thead th {\n",
       "        text-align: right;\n",
       "    }\n",
       "</style>\n",
       "<table border=\"1\" class=\"dataframe\">\n",
       "  <thead>\n",
       "    <tr style=\"text-align: right;\">\n",
       "      <th></th>\n",
       "      <th>id</th>\n",
       "      <th>groups</th>\n",
       "      <th>age</th>\n",
       "      <th>healthy_eating</th>\n",
       "      <th>active_lifestyle</th>\n",
       "      <th>salary</th>\n",
       "    </tr>\n",
       "  </thead>\n",
       "  <tbody>\n",
       "    <tr>\n",
       "      <th>26</th>\n",
       "      <td>26</td>\n",
       "      <td>A</td>\n",
       "      <td>62</td>\n",
       "      <td>9</td>\n",
       "      <td>6</td>\n",
       "      <td>700</td>\n",
       "    </tr>\n",
       "  </tbody>\n",
       "</table>\n",
       "</div>"
      ],
      "text/plain": [
       "    id groups  age  healthy_eating  active_lifestyle  salary\n",
       "26  26      A   62               9                 6     700"
      ]
     },
     "execution_count": 42,
     "metadata": {},
     "output_type": "execute_result"
    }
   ],
   "source": [
    "# Employee healthy_eating is greater than 8\n",
    "sub1=data[data['healthy_eating']>8]\n",
    "sub1"
   ]
  },
  {
   "cell_type": "code",
   "execution_count": 44,
   "id": "5de058d5-8407-4d71-8bde-b5256f236728",
   "metadata": {},
   "outputs": [
    {
     "data": {
      "text/html": [
       "<div>\n",
       "<style scoped>\n",
       "    .dataframe tbody tr th:only-of-type {\n",
       "        vertical-align: middle;\n",
       "    }\n",
       "\n",
       "    .dataframe tbody tr th {\n",
       "        vertical-align: top;\n",
       "    }\n",
       "\n",
       "    .dataframe thead th {\n",
       "        text-align: right;\n",
       "    }\n",
       "</style>\n",
       "<table border=\"1\" class=\"dataframe\">\n",
       "  <thead>\n",
       "    <tr style=\"text-align: right;\">\n",
       "      <th></th>\n",
       "      <th>id</th>\n",
       "      <th>groups</th>\n",
       "      <th>age</th>\n",
       "      <th>healthy_eating</th>\n",
       "      <th>active_lifestyle</th>\n",
       "      <th>salary</th>\n",
       "    </tr>\n",
       "  </thead>\n",
       "  <tbody>\n",
       "    <tr>\n",
       "      <th>3</th>\n",
       "      <td>3</td>\n",
       "      <td>O</td>\n",
       "      <td>24</td>\n",
       "      <td>3</td>\n",
       "      <td>6</td>\n",
       "      <td>902</td>\n",
       "    </tr>\n",
       "    <tr>\n",
       "      <th>15</th>\n",
       "      <td>15</td>\n",
       "      <td>B</td>\n",
       "      <td>26</td>\n",
       "      <td>3</td>\n",
       "      <td>8</td>\n",
       "      <td>662</td>\n",
       "    </tr>\n",
       "    <tr>\n",
       "      <th>18</th>\n",
       "      <td>18</td>\n",
       "      <td>A</td>\n",
       "      <td>27</td>\n",
       "      <td>2</td>\n",
       "      <td>6</td>\n",
       "      <td>779</td>\n",
       "    </tr>\n",
       "    <tr>\n",
       "      <th>26</th>\n",
       "      <td>26</td>\n",
       "      <td>A</td>\n",
       "      <td>62</td>\n",
       "      <td>9</td>\n",
       "      <td>6</td>\n",
       "      <td>700</td>\n",
       "    </tr>\n",
       "    <tr>\n",
       "      <th>32</th>\n",
       "      <td>32</td>\n",
       "      <td>A</td>\n",
       "      <td>22</td>\n",
       "      <td>3</td>\n",
       "      <td>8</td>\n",
       "      <td>662</td>\n",
       "    </tr>\n",
       "    <tr>\n",
       "      <th>35</th>\n",
       "      <td>35</td>\n",
       "      <td>O</td>\n",
       "      <td>27</td>\n",
       "      <td>2</td>\n",
       "      <td>4</td>\n",
       "      <td>785</td>\n",
       "    </tr>\n",
       "    <tr>\n",
       "      <th>38</th>\n",
       "      <td>38</td>\n",
       "      <td>AB</td>\n",
       "      <td>26</td>\n",
       "      <td>3</td>\n",
       "      <td>7</td>\n",
       "      <td>670</td>\n",
       "    </tr>\n",
       "    <tr>\n",
       "      <th>39</th>\n",
       "      <td>39</td>\n",
       "      <td>B</td>\n",
       "      <td>29</td>\n",
       "      <td>2</td>\n",
       "      <td>6</td>\n",
       "      <td>779</td>\n",
       "    </tr>\n",
       "    <tr>\n",
       "      <th>43</th>\n",
       "      <td>43</td>\n",
       "      <td>O</td>\n",
       "      <td>23</td>\n",
       "      <td>4</td>\n",
       "      <td>10</td>\n",
       "      <td>556</td>\n",
       "    </tr>\n",
       "  </tbody>\n",
       "</table>\n",
       "</div>"
      ],
      "text/plain": [
       "    id groups  age  healthy_eating  active_lifestyle  salary\n",
       "3    3      O   24               3                 6     902\n",
       "15  15      B   26               3                 8     662\n",
       "18  18      A   27               2                 6     779\n",
       "26  26      A   62               9                 6     700\n",
       "32  32      A   22               3                 8     662\n",
       "35  35      O   27               2                 4     785\n",
       "38  38     AB   26               3                 7     670\n",
       "39  39      B   29               2                 6     779\n",
       "43  43      O   23               4                10     556"
      ]
     },
     "execution_count": 44,
     "metadata": {},
     "output_type": "execute_result"
    }
   ],
   "source": [
    "# salary less than 1000\n",
    "sub2=data[data['salary']<1000]\n",
    "sub2"
   ]
  },
  {
   "cell_type": "code",
   "execution_count": 54,
   "id": "f080e5fd-cc34-43ef-88a0-55165b6adb75",
   "metadata": {},
   "outputs": [
    {
     "data": {
      "text/html": [
       "<div>\n",
       "<style scoped>\n",
       "    .dataframe tbody tr th:only-of-type {\n",
       "        vertical-align: middle;\n",
       "    }\n",
       "\n",
       "    .dataframe tbody tr th {\n",
       "        vertical-align: top;\n",
       "    }\n",
       "\n",
       "    .dataframe thead th {\n",
       "        text-align: right;\n",
       "    }\n",
       "</style>\n",
       "<table border=\"1\" class=\"dataframe\">\n",
       "  <thead>\n",
       "    <tr style=\"text-align: right;\">\n",
       "      <th></th>\n",
       "      <th>id</th>\n",
       "      <th>groups</th>\n",
       "      <th>age</th>\n",
       "      <th>healthy_eating</th>\n",
       "      <th>active_lifestyle</th>\n",
       "      <th>salary</th>\n",
       "    </tr>\n",
       "  </thead>\n",
       "  <tbody>\n",
       "    <tr>\n",
       "      <th>26</th>\n",
       "      <td>26</td>\n",
       "      <td>A</td>\n",
       "      <td>62</td>\n",
       "      <td>9</td>\n",
       "      <td>6</td>\n",
       "      <td>700</td>\n",
       "    </tr>\n",
       "  </tbody>\n",
       "</table>\n",
       "</div>"
      ],
      "text/plain": [
       "    id groups  age  healthy_eating  active_lifestyle  salary\n",
       "26  26      A   62               9                 6     700"
      ]
     },
     "execution_count": 54,
     "metadata": {},
     "output_type": "execute_result"
    }
   ],
   "source": [
    "# Employees with healthy_eating greater than 8 and with salary less than 1000\n",
    "sub = data[(data['healthy_eating']>8) & (data['salary']<1000)]\n",
    "sub"
   ]
  },
  {
   "cell_type": "markdown",
   "id": "b201d6ee-de32-4596-91c6-cb9633b3bf45",
   "metadata": {},
   "source": [
    "Observations:\n",
    "\n",
    "The only employee seemingly facing a discrepancy in salary as compared to healthy_eating is employee who is having id = 26\n",
    "\n",
    "The employee with id having 26 has a salary of 700"
   ]
  },
  {
   "cell_type": "markdown",
   "id": "d631fbc9-fd07-4b78-8fde-cb47dd236c5c",
   "metadata": {},
   "source": [
    "# **Final Conclusions**\n",
    "\n",
    "From the given data, we can use simple visualisations to get a sense of how data are distributed\n",
    "\n",
    "We can conduct preliminary analyses simply by subsetting data sets using well thought out thresholds and conditions"
   ]
  },
  {
   "cell_type": "code",
   "execution_count": null,
   "id": "3b231fe1-795e-453c-9598-550c93b6b835",
   "metadata": {},
   "outputs": [],
   "source": []
  }
 ],
 "metadata": {
  "kernelspec": {
   "display_name": "Python 3 (ipykernel)",
   "language": "python",
   "name": "python3"
  },
  "language_info": {
   "codemirror_mode": {
    "name": "ipython",
    "version": 3
   },
   "file_extension": ".py",
   "mimetype": "text/x-python",
   "name": "python",
   "nbconvert_exporter": "python",
   "pygments_lexer": "ipython3",
   "version": "3.12.7"
  }
 },
 "nbformat": 4,
 "nbformat_minor": 5
}
